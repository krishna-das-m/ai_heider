{
 "cells": [
  {
   "cell_type": "code",
   "execution_count": 1,
   "id": "848a9929",
   "metadata": {},
   "outputs": [],
   "source": [
    "from gensim.test.utils import common_texts\n",
    "from gensim.models import Word2Vec"
   ]
  },
  {
   "cell_type": "code",
   "execution_count": 2,
   "id": "39f7247c",
   "metadata": {},
   "outputs": [],
   "source": [
    "model = Word2Vec(sentences=common_texts, vector_size=100, window=5, min_count=1, workers=4)\n",
    "model.save(\"word2vec.model\")"
   ]
  },
  {
   "cell_type": "code",
   "execution_count": 3,
   "id": "82ffd8a2",
   "metadata": {},
   "outputs": [],
   "source": [
    "model = Word2Vec.load(\"word2vec.model\")"
   ]
  },
  {
   "cell_type": "code",
   "execution_count": 4,
   "id": "d28259cf",
   "metadata": {},
   "outputs": [
    {
     "data": {
      "text/plain": [
       "(0, 2)"
      ]
     },
     "execution_count": 4,
     "metadata": {},
     "output_type": "execute_result"
    }
   ],
   "source": [
    "model.train([[\"hello\", \"world\"]], total_examples=1, epochs=1)"
   ]
  },
  {
   "cell_type": "code",
   "execution_count": 5,
   "id": "ff0e43e8",
   "metadata": {},
   "outputs": [
    {
     "data": {
      "text/plain": [
       "array([-0.00515774, -0.00667028, -0.0077791 ,  0.00831315, -0.00198292,\n",
       "       -0.00685696, -0.0041556 ,  0.00514562, -0.00286997, -0.00375075,\n",
       "        0.0016219 , -0.0027771 , -0.00158482,  0.0010748 , -0.00297881,\n",
       "        0.00852176,  0.00391207, -0.00996176,  0.00626142, -0.00675622,\n",
       "        0.00076966,  0.00440552, -0.00510486, -0.00211128,  0.00809783,\n",
       "       -0.00424503, -0.00763848,  0.00926061, -0.00215612, -0.00472081,\n",
       "        0.00857329,  0.00428459,  0.0043261 ,  0.00928722, -0.00845554,\n",
       "        0.00525685,  0.00203994,  0.0041895 ,  0.00169839,  0.00446543,\n",
       "        0.0044876 ,  0.0061063 , -0.00320303, -0.00457706, -0.00042664,\n",
       "        0.00253447, -0.00326412,  0.00605948,  0.00415534,  0.00776685,\n",
       "        0.00257002,  0.00811905, -0.00138761,  0.00808028,  0.0037181 ,\n",
       "       -0.00804967, -0.00393476, -0.0024726 ,  0.00489447, -0.00087241,\n",
       "       -0.00283173,  0.00783599,  0.00932561, -0.0016154 , -0.00516075,\n",
       "       -0.00470313, -0.00484746, -0.00960562,  0.00137242, -0.00422615,\n",
       "        0.00252744,  0.00561612, -0.00406709, -0.00959937,  0.00154715,\n",
       "       -0.00670207,  0.0024959 , -0.00378173,  0.00708048,  0.00064041,\n",
       "        0.00356198, -0.00273993, -0.00171105,  0.00765502,  0.00140809,\n",
       "       -0.00585215, -0.00783678,  0.00123305,  0.00645651,  0.00555797,\n",
       "       -0.00897966,  0.00859466,  0.00404816,  0.00747178,  0.00974917,\n",
       "       -0.0072917 , -0.00904259,  0.0058377 ,  0.00939395,  0.00350795],\n",
       "      dtype=float32)"
      ]
     },
     "execution_count": 5,
     "metadata": {},
     "output_type": "execute_result"
    }
   ],
   "source": [
    "model.wv['computer']"
   ]
  }
 ],
 "metadata": {
  "kernelspec": {
   "display_name": "Python 3",
   "language": "python",
   "name": "python3"
  },
  "language_info": {
   "codemirror_mode": {
    "name": "ipython",
    "version": 3
   },
   "file_extension": ".py",
   "mimetype": "text/x-python",
   "name": "python",
   "nbconvert_exporter": "python",
   "pygments_lexer": "ipython3",
   "version": "3.10.11"
  }
 },
 "nbformat": 4,
 "nbformat_minor": 5
}
